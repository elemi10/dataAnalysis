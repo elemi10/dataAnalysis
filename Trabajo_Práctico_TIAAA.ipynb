{
  "nbformat": 4,
  "nbformat_minor": 0,
  "metadata": {
    "colab": {
      "name": "Trabajo Práctico - TIAAA.ipynb",
      "provenance": [],
      "collapsed_sections": [],
      "toc_visible": true,
      "include_colab_link": true
    },
    "kernelspec": {
      "name": "python3",
      "display_name": "Python 3"
    }
  },
  "cells": [
    {
      "cell_type": "markdown",
      "metadata": {
        "id": "view-in-github",
        "colab_type": "text"
      },
      "source": [
        "<a href=\"https://colab.research.google.com/github/elemi10/dataAnalysis-Porforlio/blob/gh-pages/Trabajo_Pr%C3%A1ctico_TIAAA.ipynb\" target=\"_parent\"><img src=\"https://colab.research.google.com/assets/colab-badge.svg\" alt=\"Open In Colab\"/></a>"
      ]
    },
    {
      "cell_type": "code",
      "metadata": {
        "id": "yao9uPwlkrSE"
      },
      "source": [
        "import pandas as pd\r\n",
        "import numpy as np\r\n",
        "from sklearn.model_selection import train_test_split\r\n",
        "from sklearn.linear_model import LogisticRegression"
      ],
      "execution_count": null,
      "outputs": []
    },
    {
      "cell_type": "markdown",
      "metadata": {
        "id": "rANjYqPYnPvh"
      },
      "source": [
        "Establecemos constantes generales"
      ]
    },
    {
      "cell_type": "code",
      "metadata": {
        "id": "ZHVqCFd5kur4"
      },
      "source": [
        "# Nombres de las columnas por orden, según indica la planilla\n",
        "HEADERS = [\"mpg\", \"cylinders\", \"displacement\", \"horsepower\", \"weight\", \"acceleration\", \"modelyear\", \"origin\", \"carname\"]\n",
        "\n",
        "# Columnas con valores discretos según planilla\n",
        "VARIABLES_DISCRETAS = ['cylinders', 'origin', 'modelyear']"
      ],
      "execution_count": null,
      "outputs": []
    },
    {
      "cell_type": "markdown",
      "metadata": {
        "id": "SlXJsCxenqx6"
      },
      "source": [
        "Cargamos el archivo ya almacenado en Colab"
      ]
    },
    {
      "cell_type": "code",
      "metadata": {
        "id": "uLi7sM7fnCF5"
      },
      "source": [
        "# Cargamos archivo especificando los headers\r\n",
        "autos = pd.read_excel('/content/sample_data/DatasetAutomoviles.xls', names = HEADERS)"
      ],
      "execution_count": null,
      "outputs": []
    },
    {
      "cell_type": "code",
      "metadata": {
        "id": "jeSnroeNKw0R"
      },
      "source": [
        "autos.describe"
      ],
      "execution_count": null,
      "outputs": []
    },
    {
      "cell_type": "markdown",
      "metadata": {
        "id": "_3GW8wJAsL00"
      },
      "source": [
        "Rmovemos aquellas filas que tienen valores incompletos"
      ]
    },
    {
      "cell_type": "code",
      "metadata": {
        "id": "32Y3m3EirRZH",
        "colab": {
          "base_uri": "https://localhost:8080/"
        },
        "outputId": "a1170c02-bddd-4c58-c4cb-139541d51e1a"
      },
      "source": [
        "print('Todos los valores:', len(autos))\r\n",
        "autos = autos[autos.horsepower != '?']\r\n",
        "print('Sin valores incompletos:', len(autos))\r\n",
        "\r\n",
        "# ¿En vez de eliminar los valores incompletos quizás se podrían reemplazar por 0?\r\n",
        "# Reemplazamos los valores faltantes '?' de \"horsepower\" por 0\r\n",
        "# autos['horsepower'].replace(r'\\?', 0, regex = True, inplace = True)"
      ],
      "execution_count": null,
      "outputs": [
        {
          "output_type": "stream",
          "text": [
            "Todos los valores: 397\n",
            "Sin valores incompletos: 391\n"
          ],
          "name": "stdout"
        }
      ]
    },
    {
      "cell_type": "markdown",
      "metadata": {
        "id": "fVlh9f04nXXG"
      },
      "source": [
        "*Sanitizamos* y homogeneizamos valores"
      ]
    },
    {
      "cell_type": "code",
      "metadata": {
        "id": "zCj6TGOinVrf"
      },
      "source": [
        "# Limpiamos tabulaciones extras que aparecen en la columna \"carname\"\r\n",
        "autos['carname'].replace(r'\\t', '', regex = True, inplace = True)\r\n",
        "\r\n",
        "# Convesión de dtypes para eliminar diferencias en los decimales, puntos y ceros innecesarios\r\n",
        "autos['mpg'] = autos['mpg'].astype('int64')\r\n",
        "autos['displacement'] = autos['displacement'].astype('int64')\r\n",
        "autos['horsepower'] = autos['horsepower'].astype('float64').astype('int64') # primero se pasa a float y luego a int para evitar error en la conversión\r\n",
        "autos['weight'] = autos['weight'].astype('int64')"
      ],
      "execution_count": null,
      "outputs": []
    },
    {
      "cell_type": "markdown",
      "metadata": {
        "id": "Me6zZnEHneki"
      },
      "source": [
        "Creamos variables dummy para todas las columnas con valores discretos"
      ]
    },
    {
      "cell_type": "code",
      "metadata": {
        "id": "h7V4_KGWmd4v",
        "colab": {
          "base_uri": "https://localhost:8080/"
        },
        "outputId": "49944ea9-f5eb-4804-98be-a791bc9394c9"
      },
      "source": [
        "# Esto automáticamente elimina los valores originales de esas columnas\r\n",
        "autos = pd.get_dummies(autos, columns = VARIABLES_DISCRETAS, prefix_sep = \"_\")\r\n",
        "\r\n",
        "# Revisamos las columnas que tenemos hasta ahora\r\n",
        "print(autos.columns)"
      ],
      "execution_count": null,
      "outputs": [
        {
          "output_type": "stream",
          "text": [
            "Index(['mpg', 'displacement', 'horsepower', 'weight', 'acceleration',\n",
            "       'carname', 'cylinders_3', 'cylinders_4', 'cylinders_5', 'cylinders_6',\n",
            "       'cylinders_8', 'origin_1', 'origin_2', 'origin_3', 'modelyear_70',\n",
            "       'modelyear_71', 'modelyear_72', 'modelyear_73', 'modelyear_74',\n",
            "       'modelyear_75', 'modelyear_76', 'modelyear_77', 'modelyear_78',\n",
            "       'modelyear_79', 'modelyear_80', 'modelyear_81', 'modelyear_82'],\n",
            "      dtype='object')\n"
          ],
          "name": "stdout"
        }
      ]
    },
    {
      "cell_type": "code",
      "metadata": {
        "id": "l2P2RG8gmfXe"
      },
      "source": [
        "# Print de todos los valores para ver cómo vienen los datos\r\n",
        "print(autos.to_string())"
      ],
      "execution_count": null,
      "outputs": []
    },
    {
      "cell_type": "markdown",
      "metadata": {
        "id": "LnP43fccAs2C"
      },
      "source": [
        "Correlaciones"
      ]
    },
    {
      "cell_type": "code",
      "metadata": {
        "colab": {
          "base_uri": "https://localhost:8080/"
        },
        "id": "PB3DexHH_nIr",
        "outputId": "0efa25fa-42d9-44de-f80e-f12ffe9fbd19"
      },
      "source": [
        "correlaciones = autos.corr(method = 'pearson')['mpg']\r\n",
        "print(correlaciones.sort_values(ascending = False))"
      ],
      "execution_count": null,
      "outputs": [
        {
          "output_type": "stream",
          "text": [
            "mpg             1.000000\n",
            "cylinders_4     0.764591\n",
            "origin_3        0.451360\n",
            "acceleration    0.422665\n",
            "modelyear_80    0.355714\n",
            "modelyear_82    0.324101\n",
            "origin_2        0.247391\n",
            "modelyear_81    0.232806\n",
            "modelyear_79    0.048409\n",
            "cylinders_5     0.042065\n",
            "modelyear_78    0.015220\n",
            "modelyear_77   -0.008081\n",
            "modelyear_74   -0.018185\n",
            "cylinders_3    -0.040012\n",
            "modelyear_76   -0.075142\n",
            "modelyear_71   -0.076892\n",
            "modelyear_75   -0.112834\n",
            "modelyear_72   -0.164401\n",
            "modelyear_70   -0.201559\n",
            "cylinders_6    -0.235611\n",
            "modelyear_73   -0.270223\n",
            "origin_1       -0.567754\n",
            "cylinders_8    -0.650255\n",
            "horsepower     -0.779159\n",
            "displacement   -0.806562\n",
            "weight         -0.834905\n",
            "Name: mpg, dtype: float64\n"
          ],
          "name": "stdout"
        }
      ]
    },
    {
      "cell_type": "markdown",
      "metadata": {
        "id": "aBNH92GazjRE"
      },
      "source": [
        "Creamos los dataframes para los modelos predictivos\r\n"
      ]
    },
    {
      "cell_type": "code",
      "metadata": {
        "id": "fL7NrT4YzbI5"
      },
      "source": [
        "y = autos['mpg'] # variable dependienente\r\n",
        "x = autos.drop(columns = ['mpg', 'carname'], axis = 1) # variables independenientes"
      ],
      "execution_count": null,
      "outputs": []
    },
    {
      "cell_type": "markdown",
      "metadata": {
        "id": "2waqI9ia_Ffk"
      },
      "source": [
        "Normalizamos los valores"
      ]
    },
    {
      "cell_type": "code",
      "metadata": {
        "colab": {
          "base_uri": "https://localhost:8080/"
        },
        "id": "VhBiQg_4B9zx",
        "outputId": "6cddb3d7-50e8-4df7-b956-63ab1d1b27f8"
      },
      "source": [
        "# \"A los valores de la variable, restarle la media y dividirla por el desvío estandar\"\r\n",
        "x_norm = ( x - x.mean() ) / x.std()\r\n",
        "print(x_norm)"
      ],
      "execution_count": null,
      "outputs": [
        {
          "output_type": "stream",
          "text": [
            "     displacement  horsepower  ...  modelyear_81  modelyear_82\n",
            "0        1.489885    1.573154  ...     -0.277376     -0.287906\n",
            "1        1.184027    1.183733  ...     -0.277376     -0.287906\n",
            "2        1.050214    1.183733  ...     -0.277376     -0.287906\n",
            "3        1.031098    0.924119  ...     -0.277376     -0.287906\n",
            "4        2.244973    2.429880  ...     -0.277376     -0.287906\n",
            "..            ...         ...  ...           ...           ...\n",
            "392     -0.517309   -0.477796  ...     -0.277376      3.464471\n",
            "393     -0.928306   -1.360483  ...     -0.277376      3.464471\n",
            "394     -0.565099   -0.529719  ...     -0.277376      3.464471\n",
            "395     -0.708470   -0.659526  ...     -0.277376      3.464471\n",
            "396     -0.718029   -0.581641  ...     -0.277376      3.464471\n",
            "\n",
            "[391 rows x 25 columns]\n"
          ],
          "name": "stdout"
        }
      ]
    },
    {
      "cell_type": "markdown",
      "metadata": {
        "id": "5Jmcq_x0HyJW"
      },
      "source": [
        "Predicciones"
      ]
    },
    {
      "cell_type": "code",
      "metadata": {
        "colab": {
          "base_uri": "https://localhost:8080/"
        },
        "id": "L7m0m66RHYR_",
        "outputId": "8dbfad51-6588-418e-fe05-76adb7cf141d"
      },
      "source": [
        "# Divididmos la data de modo random para testear y entrenar \r\n",
        "x_train, x_valid, y_train, y_valid = train_test_split(x_norm, y, test_size = 0.1)\r\n",
        "\r\n",
        "# Clasificador\r\n",
        "model1 = LogisticRegression(solver = 'liblinear', random_state = 0, verbose = 1, C = 1.0, penalty = 'l2')\r\n",
        "model1.fit(x_train, y_train)\r\n",
        "\r\n",
        "coef1 = pd.DataFrame(model1.coef_).T\r\n",
        "coef1['col'] = pd.DataFrame(x_train.columns)\r\n",
        "\r\n",
        "y_pred1 = pd.DataFrame(model1.predict_proba(x_train), index=x_train.index )\r\n",
        "y_pred1['pct_rank'] = np.round(y_pred1[0].rank(pct=True)*10,0)\r\n",
        "\r\n",
        "y_pred1b = y_pred1b.reset_index()\r\n"
      ],
      "execution_count": null,
      "outputs": [
        {
          "output_type": "stream",
          "text": [
            "[LibLinear]"
          ],
          "name": "stdout"
        }
      ]
    }
  ]
}